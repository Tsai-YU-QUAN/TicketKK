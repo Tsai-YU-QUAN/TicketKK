{
 "cells": [
  {
   "cell_type": "code",
   "execution_count": null,
   "metadata": {
    "scrolled": true
   },
   "outputs": [],
   "source": [
    "from selenium import webdriver\n",
    "from time import sleep\n",
    "from selenium.webdriver.common.keys import Keys\n",
    "from selenium.webdriver.common.by import By\n",
    "#from PIL import Image\n",
    "#from simshow import simshow  #以 pip install simple-imshow 安裝模組\n",
    "\n",
    "\n",
    "delay = 0.1\n",
    "delayJs = 0.3\n",
    "url = 'url'  #KKTIX訂票網頁\n",
    "UserName = '帳號'\n",
    "Pass = '密碼'\n",
    "option = webdriver.ChromeOptions()  #設置開發模式啟動\n",
    "option.add_experimental_option('excludeSwitches', ['enable-automation'])\n",
    "driver = webdriver.Chrome(options=option)\n",
    "driver.get(url)\n",
    "sleep(delay)  #加入等待\n",
    "driver.find_element_by_id('username').send_keys(UserName)\n",
    "driver.find_element_by_id('password').send_keys(Pass)\n",
    "driver.find_element_by_id('password').send_keys(Keys.ENTER)\n",
    "sleep(delay)\n",
    "driver.find_element_by_xpath(\"//*[@id='events-tab-0']/ul/li[3]/a\").click() #進入偶像選單\n",
    "sleep(delay)\n",
    "driver.find_element_by_xpath(\"/html/body/div[2]/div[2]/div/div[8]/a\").click() #下一步\n",
    "sleep(delayJs)\n",
    "javaScript = \"document.getElementsByClassName('plus')[0].click();\" #選擇票數\n",
    "driver.execute_script(javaScript)\n",
    "sleep(delayJs)\n",
    "#captchatext = input('輸入驗證碼：')\n",
    "#driver.find_element_by_name(\"captcha_answer\").send_keys(\"\\n\")\n",
    "#sleep(delay)\n",
    "#driver.find_element_by_name(\"captcha_answer\").clear()\n",
    "#sleep(delay)\n",
    "#driver.find_element_by_name(\"captcha_answer\").send_keys(captchatext)\n",
    "#sleep(delay)\n",
    "driver.find_element_by_id(\"person_agree_terms\").click()  #勾選協議條件\n",
    "sleep(delay)\n",
    "driver.find_element_by_xpath(\"//*[@id='registrationsNewApp']/div/div[5]/div[5]/button\").click()  #第二頁下一步\n",
    "\n",
    "###非當天搶票時候\n",
    "#<a href=\"javascript:void(0)\" class=\"btn btn-primary ng-binding\" ng-click=\"done()\">完成選位</a>\n",
    "inTest = input('非當天搶票： 暫停一下')\n",
    "\n",
    "###當天搶票時候\n",
    "sleep(delay)\n",
    "driver.find_element_by_xpath(\"//*[@id='registrations_controller']/div[4]/div[2]/div/div[5]/a\").click()  ##輸入相關資料之後的下一頁\n",
    "print(\"訂票完成，剩下身分證輸入部分\")\n",
    "\n",
    "\n",
    "\n"
   ]
  },
  {
   "cell_type": "code",
   "execution_count": null,
   "metadata": {},
   "outputs": [],
   "source": []
  },
  {
   "cell_type": "code",
   "execution_count": null,
   "metadata": {},
   "outputs": [],
   "source": []
  }
 ],
 "metadata": {
  "kernelspec": {
   "display_name": "Python 3",
   "language": "python",
   "name": "python3"
  },
  "language_info": {
   "codemirror_mode": {
    "name": "ipython",
    "version": 3
   },
   "file_extension": ".py",
   "mimetype": "text/x-python",
   "name": "python",
   "nbconvert_exporter": "python",
   "pygments_lexer": "ipython3",
   "version": "3.7.4"
  }
 },
 "nbformat": 4,
 "nbformat_minor": 2
}
